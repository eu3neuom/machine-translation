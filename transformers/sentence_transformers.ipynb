{
 "cells": [
  {
   "cell_type": "code",
   "execution_count": 25,
   "id": "3c778834",
   "metadata": {},
   "outputs": [],
   "source": [
    "import pandas as pd\n",
    "import os\n",
    "from transformers import AutoTokenizer\n",
    "from tqdm import tqdm\n",
    "import matplotlib.pyplot as plt\n",
    "import numpy as np\n",
    "from datetime import datetime\n",
    "import math\n",
    "from sklearn.metrics.pairwise import paired_cosine_distances\n",
    "import seaborn as sns\n",
    "\n",
    "from sentence_transformers import SentenceTransformer, InputExample, losses, models\n",
    "from sentence_transformers.evaluation import EmbeddingSimilarityEvaluator\n",
    "from torch.utils.data import DataLoader\n",
    "from sacrebleu.metrics import BLEU\n",
    "from scipy.stats import pearsonr"
   ]
  },
  {
   "cell_type": "markdown",
   "id": "605cbb09",
   "metadata": {},
   "source": [
    "## Dataset"
   ]
  },
  {
   "cell_type": "code",
   "execution_count": 2,
   "id": "c5a022f8",
   "metadata": {},
   "outputs": [],
   "source": [
    "def load_dataset(lang):\n",
    "    def remove_nan(df):\n",
    "        res = df.dropna()\n",
    "        return res, df.shape[0] - res.shape[0]\n",
    "    \n",
    "    train_df, train_miss = remove_nan(pd.read_csv(f\"data/{lang}/train.csv\"))\n",
    "    test_df, test_miss = remove_nan(pd.read_csv(f\"data/{lang}/test.csv\"))\n",
    "    all_miss = train_miss + test_miss\n",
    "    if all_miss:\n",
    "        print(f\"W: {all_miss} rows with missing values\")\n",
    "        \n",
    "    train_df = train_df[[\"Human\" not in sysid for sysid in train_df.sysid]]\n",
    "    test_df = test_df[[\"Human\" not in sysid for sysid in test_df.sysid]]\n",
    "    return train_df, test_df"
   ]
  },
  {
   "cell_type": "code",
   "execution_count": 3,
   "id": "9f1088f0",
   "metadata": {},
   "outputs": [],
   "source": [
    "def load_samples(lang, gold_column=\"segreference\"):\n",
    "    train_df, test_df = load_dataset(lang)\n",
    "    \n",
    "    # normalize scores to [0, 1]\n",
    "    minimum = min(np.min(train_df.raw_score), np.min(test_df.raw_score))\n",
    "    maximum = max(np.max(train_df.raw_score), np.max(test_df.raw_score))\n",
    "    train_df[\"score\"] = [(rs - minimum) / (maximum - minimum) for rs in train_df.raw_score]\n",
    "    test_df[\"score\"] = [(rs - minimum) / (maximum - minimum) for rs in test_df.raw_score]\n",
    "    \n",
    "    train_samples = []\n",
    "    test_samples = []\n",
    "    \n",
    "    for df, samples in [(train_df, train_samples), (test_df, test_samples)]:\n",
    "        for _, row in df.iterrows():\n",
    "            input_example = InputExample(texts=[row[gold_column], row.segpredict], label=row.score)\n",
    "            samples.append(input_example)\n",
    "            \n",
    "    return train_samples, test_samples"
   ]
  },
  {
   "cell_type": "code",
   "execution_count": 4,
   "id": "ed412628",
   "metadata": {},
   "outputs": [
    {
     "data": {
      "text/html": [
       "<div>\n",
       "<style scoped>\n",
       "    .dataframe tbody tr th:only-of-type {\n",
       "        vertical-align: middle;\n",
       "    }\n",
       "\n",
       "    .dataframe tbody tr th {\n",
       "        vertical-align: top;\n",
       "    }\n",
       "\n",
       "    .dataframe thead th {\n",
       "        text-align: right;\n",
       "    }\n",
       "</style>\n",
       "<table border=\"1\" class=\"dataframe\">\n",
       "  <thead>\n",
       "    <tr style=\"text-align: right;\">\n",
       "      <th></th>\n",
       "      <th>setid</th>\n",
       "      <th>docid</th>\n",
       "      <th>origlang</th>\n",
       "      <th>trglang</th>\n",
       "      <th>segid</th>\n",
       "      <th>segsource</th>\n",
       "      <th>segreference</th>\n",
       "      <th>segpredict</th>\n",
       "      <th>sysid</th>\n",
       "      <th>raw_score</th>\n",
       "      <th>z_score</th>\n",
       "    </tr>\n",
       "  </thead>\n",
       "  <tbody>\n",
       "    <tr>\n",
       "      <th>1</th>\n",
       "      <td>newstestB2020</td>\n",
       "      <td>independent.281139</td>\n",
       "      <td>en</td>\n",
       "      <td>de</td>\n",
       "      <td>1</td>\n",
       "      <td>Michael Jackson wore tape on his nose to get f...</td>\n",
       "      <td>Ehemaliger Bodyguard behauptet, Michael Jackso...</td>\n",
       "      <td>Michael Jackson trug Klebeband auf der Nase, u...</td>\n",
       "      <td>Online-A.1574</td>\n",
       "      <td>100.0</td>\n",
       "      <td>0.487735</td>\n",
       "    </tr>\n",
       "    <tr>\n",
       "      <th>2</th>\n",
       "      <td>newstestB2020</td>\n",
       "      <td>independent.281139</td>\n",
       "      <td>en</td>\n",
       "      <td>de</td>\n",
       "      <td>1</td>\n",
       "      <td>Michael Jackson wore tape on his nose to get f...</td>\n",
       "      <td>Ehemaliger Bodyguard behauptet, Michael Jackso...</td>\n",
       "      <td>Michael Jackson trug Klebeband auf seiner Nase...</td>\n",
       "      <td>Online-Z.1631</td>\n",
       "      <td>97.0</td>\n",
       "      <td>0.574869</td>\n",
       "    </tr>\n",
       "    <tr>\n",
       "      <th>3</th>\n",
       "      <td>newstestB2020</td>\n",
       "      <td>independent.281139</td>\n",
       "      <td>en</td>\n",
       "      <td>de</td>\n",
       "      <td>1</td>\n",
       "      <td>Michael Jackson wore tape on his nose to get f...</td>\n",
       "      <td>Ehemaliger Bodyguard behauptet, Michael Jackso...</td>\n",
       "      <td>Michael Jackson trug Klebeband auf der Nase, u...</td>\n",
       "      <td>Tohoku-AIP-NTT.890</td>\n",
       "      <td>94.5</td>\n",
       "      <td>0.337131</td>\n",
       "    </tr>\n",
       "    <tr>\n",
       "      <th>4</th>\n",
       "      <td>newstestB2020</td>\n",
       "      <td>independent.281139</td>\n",
       "      <td>en</td>\n",
       "      <td>de</td>\n",
       "      <td>1</td>\n",
       "      <td>Michael Jackson wore tape on his nose to get f...</td>\n",
       "      <td>Ehemaliger Bodyguard behauptet, Michael Jackso...</td>\n",
       "      <td>Michael Jackson trug Klebeband an der Nase, um...</td>\n",
       "      <td>PROMT_NMT.73</td>\n",
       "      <td>100.0</td>\n",
       "      <td>0.495619</td>\n",
       "    </tr>\n",
       "    <tr>\n",
       "      <th>6</th>\n",
       "      <td>newstestB2020</td>\n",
       "      <td>independent.281139</td>\n",
       "      <td>en</td>\n",
       "      <td>de</td>\n",
       "      <td>2</td>\n",
       "      <td>Michael Jackson's former bodyguard has claimed...</td>\n",
       "      <td>Michael Jacksons ehemaliger Bodyguard hat beha...</td>\n",
       "      <td>Michael Jacksons ehemaliger Leibwächter hat be...</td>\n",
       "      <td>Online-A.1574</td>\n",
       "      <td>91.0</td>\n",
       "      <td>0.118860</td>\n",
       "    </tr>\n",
       "  </tbody>\n",
       "</table>\n",
       "</div>"
      ],
      "text/plain": [
       "           setid               docid origlang trglang  segid  \\\n",
       "1  newstestB2020  independent.281139       en      de      1   \n",
       "2  newstestB2020  independent.281139       en      de      1   \n",
       "3  newstestB2020  independent.281139       en      de      1   \n",
       "4  newstestB2020  independent.281139       en      de      1   \n",
       "6  newstestB2020  independent.281139       en      de      2   \n",
       "\n",
       "                                           segsource  \\\n",
       "1  Michael Jackson wore tape on his nose to get f...   \n",
       "2  Michael Jackson wore tape on his nose to get f...   \n",
       "3  Michael Jackson wore tape on his nose to get f...   \n",
       "4  Michael Jackson wore tape on his nose to get f...   \n",
       "6  Michael Jackson's former bodyguard has claimed...   \n",
       "\n",
       "                                        segreference  \\\n",
       "1  Ehemaliger Bodyguard behauptet, Michael Jackso...   \n",
       "2  Ehemaliger Bodyguard behauptet, Michael Jackso...   \n",
       "3  Ehemaliger Bodyguard behauptet, Michael Jackso...   \n",
       "4  Ehemaliger Bodyguard behauptet, Michael Jackso...   \n",
       "6  Michael Jacksons ehemaliger Bodyguard hat beha...   \n",
       "\n",
       "                                          segpredict               sysid  \\\n",
       "1  Michael Jackson trug Klebeband auf der Nase, u...       Online-A.1574   \n",
       "2  Michael Jackson trug Klebeband auf seiner Nase...       Online-Z.1631   \n",
       "3  Michael Jackson trug Klebeband auf der Nase, u...  Tohoku-AIP-NTT.890   \n",
       "4  Michael Jackson trug Klebeband an der Nase, um...        PROMT_NMT.73   \n",
       "6  Michael Jacksons ehemaliger Leibwächter hat be...       Online-A.1574   \n",
       "\n",
       "   raw_score   z_score  \n",
       "1      100.0  0.487735  \n",
       "2       97.0  0.574869  \n",
       "3       94.5  0.337131  \n",
       "4      100.0  0.495619  \n",
       "6       91.0  0.118860  "
      ]
     },
     "execution_count": 4,
     "metadata": {},
     "output_type": "execute_result"
    }
   ],
   "source": [
    "train_df, test_df = load_dataset(\"de\")\n",
    "train_df.head()"
   ]
  },
  {
   "cell_type": "code",
   "execution_count": 5,
   "id": "e65160e7",
   "metadata": {},
   "outputs": [],
   "source": [
    "def compute_bleu_scores(df):\n",
    "    bleu = BLEU(effective_order=True)\n",
    "    df[\"bleu\"] = [bleu.sentence_score(hyp, [ref]).score for (hyp, ref) in zip(df.segpredict, df.segreference)]"
   ]
  },
  {
   "cell_type": "markdown",
   "id": "ae99e39c",
   "metadata": {},
   "source": [
    "## Segment analysis"
   ]
  },
  {
   "cell_type": "code",
   "execution_count": 7,
   "id": "2b616826",
   "metadata": {},
   "outputs": [
    {
     "name": "stdout",
     "output_type": "stream",
     "text": [
      "W: 4 rows with missing values\n"
     ]
    },
    {
     "name": "stderr",
     "output_type": "stream",
     "text": [
      "100%|███████████████████████████████████████████| 13984/13984 [00:06<00:00, 2095.61it/s]\n"
     ]
    },
    {
     "data": {
      "image/png": "[encoded data removed]",
      "text/plain": [
       "<Figure size 432x288 with 1 Axes>"
      ]
     },
     "metadata": {
      "needs_background": "light"
     },
     "output_type": "display_data"
    },
    {
     "name": "stderr",
     "output_type": "stream",
     "text": [
      "100%|███████████████████████████████████████████| 23865/23865 [00:09<00:00, 2505.17it/s]\n"
     ]
    },
    {
     "data": {
      "image/png": "[encoded data removed]",
      "text/plain": [
       "<Figure size 432x288 with 1 Axes>"
      ]
     },
     "metadata": {
      "needs_background": "light"
     },
     "output_type": "display_data"
    }
   ],
   "source": [
    "EN_PRETRAINED = \"bert-base-uncased\"\n",
    "DE_PRETRAINED = \"dbmdz/bert-base-german-uncased\"\n",
    "\n",
    "tokenizer_en = AutoTokenizer.from_pretrained(EN_PRETRAINED)\n",
    "tokenizer_de = AutoTokenizer.from_pretrained(DE_PRETRAINED)\n",
    "\n",
    "for lp, src_tokenizer, tgt_tokenizer in [\n",
    "    (\"de-en\", tokenizer_de, tokenizer_en), (\"en-de\", tokenizer_en, tokenizer_de)\n",
    "]:\n",
    "    df, _ = load_dataset(lp[-2:])\n",
    "    lens = []\n",
    "    for _, row in tqdm(df.iterrows(), total=df.shape[0]):\n",
    "        lens.append(len(src_tokenizer(row.segsource)[\"input_ids\"]))\n",
    "        for column in [\"segreference\", \"segpredict\"]:\n",
    "            lens.append(len(tgt_tokenizer(row[column])[\"input_ids\"]))\n",
    "    plt.title(f\"Number of tokens distribution for {lp} pair\")\n",
    "    plt.hist(lens)\n",
    "    plt.show()"
   ]
  },
  {
   "cell_type": "markdown",
   "id": "dbdfb08d",
   "metadata": {},
   "source": [
    "## Sentence Transformer"
   ]
  },
  {
   "cell_type": "code",
   "execution_count": 8,
   "id": "4b1e2641",
   "metadata": {},
   "outputs": [],
   "source": [
    "def init_sentence_transformer(model_name, max_seq_length, is_sbert=False):\n",
    "    if is_sbert:\n",
    "        model = SentenceTransformer(model_name)\n",
    "        model.max_seq_length = max_seq_length\n",
    "        return model\n",
    "    else:\n",
    "        word_embedding_model = models.Transformer(MODEL_NAME, max_seq_length=max_seq_length)\n",
    "        pooling_model = models.Pooling(768)\n",
    "        return SentenceTransformer(modules=[word_embedding_model, pooling_model])\n",
    "    "
   ]
  },
  {
   "cell_type": "code",
   "execution_count": 9,
   "id": "f987ff31",
   "metadata": {},
   "outputs": [
    {
     "name": "stdout",
     "output_type": "stream",
     "text": [
      "checkpoints/en-segsource--distiluse-base-multilingual-cased-v1--2022-01-25_15-13-56\n"
     ]
    }
   ],
   "source": [
    "LANG = \"en\"\n",
    "GOLD_COLUMN = \"segsource\"\n",
    "MODEL_NAME = \"distiluse-base-multilingual-cased-v1\"\n",
    "BATCH_SIZE = 16\n",
    "NUM_EPOCHS = 5\n",
    "MODEL_SAVE_PATH = (\n",
    "    f\"checkpoints/{LANG}-{GOLD_COLUMN}--\" + MODEL_NAME + \"--\" + datetime.now().strftime(\"%Y-%m-%d_%H-%M-%S\")\n",
    ")\n",
    "\n",
    "print(MODEL_SAVE_PATH)"
   ]
  },
  {
   "cell_type": "code",
   "execution_count": 10,
   "id": "4b4d49fe",
   "metadata": {},
   "outputs": [],
   "source": [
    "model = init_sentence_transformer(MODEL_NAME, max_seq_length=100, is_sbert=True)"
   ]
  },
  {
   "cell_type": "code",
   "execution_count": 11,
   "id": "002e28cb",
   "metadata": {},
   "outputs": [
    {
     "name": "stdout",
     "output_type": "stream",
     "text": [
      "W: 4 rows with missing values\n"
     ]
    }
   ],
   "source": [
    "train_samples, test_samples = load_samples(LANG, gold_column=GOLD_COLUMN)\n",
    "train_loader = DataLoader(train_samples, shuffle=True, batch_size=BATCH_SIZE)\n",
    "train_loss = losses.CosineSimilarityLoss(model=model)\n",
    "evaluator = EmbeddingSimilarityEvaluator.from_input_examples(test_samples, name=f\"{LANG}-{GOLD_COLUMN}-test\")\n",
    "warmup_steps = math.ceil(len(train_loader) * NUM_EPOCHS * 0.1)  # 10% of train data for warm-up"
   ]
  },
  {
   "cell_type": "code",
   "execution_count": 12,
   "id": "91a0f7fa",
   "metadata": {},
   "outputs": [
    {
     "data": {
      "application/vnd.jupyter.widget-view+json": {
       "model_id": "b8ab2c08720a4d4a80524d0a1af3db1f",
       "version_major": 2,
       "version_minor": 0
      },
      "text/plain": [
       "Epoch:   0%|          | 0/5 [00:00<?, ?it/s]"
      ]
     },
     "metadata": {},
     "output_type": "display_data"
    },
    {
     "data": {
      "application/vnd.jupyter.widget-view+json": {
       "model_id": "23f94d574dbf41c5b2f4c0bb556b557a",
       "version_major": 2,
       "version_minor": 0
      },
      "text/plain": [
       "Iteration:   0%|          | 0/874 [00:00<?, ?it/s]"
      ]
     },
     "metadata": {},
     "output_type": "display_data"
    },
    {
     "data": {
      "application/vnd.jupyter.widget-view+json": {
       "model_id": "c45f8f345c264884be5a0eee981d179f",
       "version_major": 2,
       "version_minor": 0
      },
      "text/plain": [
       "Iteration:   0%|          | 0/874 [00:00<?, ?it/s]"
      ]
     },
     "metadata": {},
     "output_type": "display_data"
    },
    {
     "data": {
      "application/vnd.jupyter.widget-view+json": {
       "model_id": "86efdbf63cc44fc0bcf6382d68376561",
       "version_major": 2,
       "version_minor": 0
      },
      "text/plain": [
       "Iteration:   0%|          | 0/874 [00:00<?, ?it/s]"
      ]
     },
     "metadata": {},
     "output_type": "display_data"
    },
    {
     "data": {
      "application/vnd.jupyter.widget-view+json": {
       "model_id": "4b9146100f274f76bbf256d64c94db80",
       "version_major": 2,
       "version_minor": 0
      },
      "text/plain": [
       "Iteration:   0%|          | 0/874 [00:00<?, ?it/s]"
      ]
     },
     "metadata": {},
     "output_type": "display_data"
    },
    {
     "data": {
      "application/vnd.jupyter.widget-view+json": {
       "model_id": "47f87009b5dd468ab888aa0a4a58b244",
       "version_major": 2,
       "version_minor": 0
      },
      "text/plain": [
       "Iteration:   0%|          | 0/874 [00:00<?, ?it/s]"
      ]
     },
     "metadata": {},
     "output_type": "display_data"
    }
   ],
   "source": [
    "model.fit(\n",
    "    train_objectives=[(train_loader, train_loss)],\n",
    "    evaluator=evaluator,\n",
    "    epochs=NUM_EPOCHS,\n",
    "    evaluation_steps=500,\n",
    "    warmup_steps=warmup_steps,\n",
    "    output_path=MODEL_SAVE_PATH\n",
    ")"
   ]
  },
  {
   "cell_type": "code",
   "execution_count": 13,
   "id": "d5697f68",
   "metadata": {},
   "outputs": [
    {
     "data": {
      "text/plain": [
       "0.8159285297135916"
      ]
     },
     "execution_count": 13,
     "metadata": {},
     "output_type": "execute_result"
    }
   ],
   "source": [
    "evaluator = EmbeddingSimilarityEvaluator.from_input_examples(train_samples, name=f\"{LANG}-{GOLD_COLUMN}-train\")\n",
    "evaluator(model, output_path=MODEL_SAVE_PATH)"
   ]
  },
  {
   "cell_type": "markdown",
   "id": "60ebba45",
   "metadata": {},
   "source": [
    "## Write scores to CSV"
   ]
  },
  {
   "cell_type": "code",
   "execution_count": 39,
   "id": "77dd91a0",
   "metadata": {},
   "outputs": [],
   "source": [
    "def compute_cosine_scores(checkpoint, df, gold_column):\n",
    "    model = SentenceTransformer(checkpoint)\n",
    "    \n",
    "    sentences1 = [s for s in df[gold_column]]\n",
    "    sentences2 = [s for s in df[\"segpredict\"]]\n",
    "    \n",
    "    embeddings1 = model.encode(sentences1, batch_size=BATCH_SIZE, convert_to_numpy=True)\n",
    "    embeddings2 = model.encode(sentences2, batch_size=BATCH_SIZE, convert_to_numpy=True)\n",
    "    \n",
    "    del model\n",
    "    \n",
    "    return 1 - (paired_cosine_distances(embeddings1, embeddings2))"
   ]
  },
  {
   "cell_type": "code",
   "execution_count": 45,
   "id": "25d5ca9a",
   "metadata": {},
   "outputs": [
    {
     "name": "stdout",
     "output_type": "stream",
     "text": [
      "W: 4 rows with missing values\n",
      "Mono: 0.7120178842535998\n",
      "Multi: 0.6630953401637353\n"
     ]
    }
   ],
   "source": [
    "_, test_df = load_dataset(\"en\")\n",
    "\n",
    "cosine_scores_monolingual = compute_cosine_scores(\n",
    "    \"checkpoints/en-segreference--bert-base-uncased--2022-01-24_21-35-47\", test_df, \"segreference\"\n",
    ")\n",
    "test_df[\"monolingual_bert_score\"] = cosine_scores_monolingual.tolist()\n",
    "cosine_scores_multilingual = compute_cosine_scores(\n",
    "    \"checkpoints/en-segsource--distiluse-base-multilingual-cased-v1--2022-01-25_15-13-56\", test_df, \"segsource\"\n",
    ")\n",
    "test_df[\"multilingual_bert_score\"] = cosine_scores_multilingual.tolist()\n",
    "\n",
    "monolingual_pearson, _ = pearsonr(list(test_df.raw_score), cosine_scores_monolingual)\n",
    "multilingual_pearson, _ = pearsonr(list(test_df.raw_score), cosine_scores_multilingual)\n",
    "\n",
    "print(\"Mono:\", monolingual_pearson)\n",
    "print(\"Multi:\", multilingual_pearson)\n",
    "\n",
    "test_df.to_csv(\"data/en-test-scores.csv\", index=False)"
   ]
  },
  {
   "cell_type": "code",
   "execution_count": 46,
   "id": "a1583bf6",
   "metadata": {},
   "outputs": [
    {
     "name": "stdout",
     "output_type": "stream",
     "text": [
      "Mono: 0.4983872633439147\n",
      "Multi: 0.3694785851691448\n"
     ]
    }
   ],
   "source": [
    "_, test_df = load_dataset(\"de\")\n",
    "\n",
    "cosine_scores_monolingual = compute_cosine_scores(\n",
    "    \"checkpoints/de-segreference--dbmdz/bert-base-german-uncased--2022-01-25_13-47-36\", test_df, \"segreference\"\n",
    ")\n",
    "test_df[\"monolingual_bert_score\"] = cosine_scores_monolingual.tolist()\n",
    "cosine_scores_multilingual = compute_cosine_scores(\n",
    "    \"checkpoints/de-segsource--distiluse-base-multilingual-cased-v1--2022-01-25_14-41-39\", test_df, \"segsource\"\n",
    ")\n",
    "test_df[\"multilingual_bert_score\"] = cosine_scores_multilingual.tolist()\n",
    "\n",
    "monolingual_pearson, _ = pearsonr(list(test_df.raw_score), cosine_scores_monolingual)\n",
    "multilingual_pearson, _ = pearsonr(list(test_df.raw_score), cosine_scores_multilingual)\n",
    "\n",
    "print(\"Mono:\", monolingual_pearson)\n",
    "print(\"Multi:\", multilingual_pearson)\n",
    "\n",
    "test_df.to_csv(\"data/de-test-scores.csv\", index=False)"
   ]
  }
 ],
 "metadata": {
  "kernelspec": {
   "display_name": "mt-metrics",
   "language": "python",
   "name": "mt-metrics"
  },
  "language_info": {
   "codemirror_mode": {
    "name": "ipython",
    "version": 3
   },
   "file_extension": ".py",
   "mimetype": "text/x-python",
   "name": "python",
   "nbconvert_exporter": "python",
   "pygments_lexer": "ipython3",
   "version": "3.8.10"
  }
 },
 "nbformat": 4,
 "nbformat_minor": 5
}
