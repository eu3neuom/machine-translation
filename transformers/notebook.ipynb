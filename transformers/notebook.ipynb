{
 "cells": [
  {
   "cell_type": "code",
   "execution_count": 23,
   "id": "3c778834",
   "metadata": {},
   "outputs": [],
   "source": [
    "import pandas as pd\n",
    "import os\n",
    "from transformers import AutoTokenizer\n",
    "from tqdm import tqdm\n",
    "import matplotlib.pyplot as plt\n",
    "import numpy as np\n",
    "from datetime import datetime\n",
    "import math\n",
    "\n",
    "from sentence_transformers import SentenceTransformer, InputExample, losses, models\n",
    "from sentence_transformers.evaluation import EmbeddingSimilarityEvaluator\n",
    "from torch.utils.data import DataLoader\n",
    "from sacrebleu.metrics import BLEU"
   ]
  },
  {
   "cell_type": "markdown",
   "id": "605cbb09",
   "metadata": {},
   "source": [
    "## Dataset"
   ]
  },
  {
   "cell_type": "code",
   "execution_count": 2,
   "id": "c5a022f8",
   "metadata": {},
   "outputs": [],
   "source": [
    "def load_dataset(lang):\n",
    "    def remove_nan(df):\n",
    "        res = df.dropna()\n",
    "        return res, df.shape[0] - res.shape[0]\n",
    "    \n",
    "    train_df, train_miss = remove_nan(pd.read_csv(f\"data/{lang}/train.csv\"))\n",
    "    test_df, test_miss = remove_nan(pd.read_csv(f\"data/{lang}/test.csv\"))\n",
    "    all_miss = train_miss + test_miss\n",
    "    if all_miss:\n",
    "        print(f\"W: {all_miss} rows with missing values\")\n",
    "    return train_df, test_df"
   ]
  },
  {
   "cell_type": "code",
   "execution_count": 3,
   "id": "9f1088f0",
   "metadata": {},
   "outputs": [],
   "source": [
    "def load_samples(lang, gold_column=\"segreference\"):\n",
    "    train_df, test_df = load_dataset(lang)\n",
    "    \n",
    "    # normalize scores to [0, 1]\n",
    "    minimum = min(np.min(train_df.raw_score), np.min(test_df.raw_score))\n",
    "    maximum = max(np.max(train_df.raw_score), np.max(test_df.raw_score))\n",
    "    train_df[\"score\"] = [(rs - minimum) / (maximum - minimum) for rs in train_df.raw_score]\n",
    "    test_df[\"score\"] = [(rs - minimum) / (maximum - minimum) for rs in test_df.raw_score]\n",
    "    \n",
    "    train_samples = []\n",
    "    test_samples = []\n",
    "    \n",
    "    for df, samples in [(train_df, train_samples), (test_df, test_samples)]:\n",
    "        for _, row in df.iterrows():\n",
    "            input_example = InputExample(texts=[row[gold_column], row.segpredict], label=row.score)\n",
    "            samples.append(input_example)\n",
    "            \n",
    "    return train_samples, test_samples"
   ]
  },
  {
   "cell_type": "code",
   "execution_count": 17,
   "id": "ed412628",
   "metadata": {},
   "outputs": [
    {
     "name": "stdout",
     "output_type": "stream",
     "text": [
      "W: 4 rows with missing values\n"
     ]
    },
    {
     "data": {
      "text/html": [
       "<div>\n",
       "<style scoped>\n",
       "    .dataframe tbody tr th:only-of-type {\n",
       "        vertical-align: middle;\n",
       "    }\n",
       "\n",
       "    .dataframe tbody tr th {\n",
       "        vertical-align: top;\n",
       "    }\n",
       "\n",
       "    .dataframe thead th {\n",
       "        text-align: right;\n",
       "    }\n",
       "</style>\n",
       "<table border=\"1\" class=\"dataframe\">\n",
       "  <thead>\n",
       "    <tr style=\"text-align: right;\">\n",
       "      <th></th>\n",
       "      <th>setid</th>\n",
       "      <th>docid</th>\n",
       "      <th>origlang</th>\n",
       "      <th>trglang</th>\n",
       "      <th>segid</th>\n",
       "      <th>segsource</th>\n",
       "      <th>segreference</th>\n",
       "      <th>segpredict</th>\n",
       "      <th>sysid</th>\n",
       "      <th>raw_score</th>\n",
       "      <th>z_score</th>\n",
       "    </tr>\n",
       "  </thead>\n",
       "  <tbody>\n",
       "    <tr>\n",
       "      <th>0</th>\n",
       "      <td>newstestB2020</td>\n",
       "      <td>salzburg.com.254713</td>\n",
       "      <td>de</td>\n",
       "      <td>en</td>\n",
       "      <td>1</td>\n",
       "      <td>Brand in französischem Chemiewerk gelöscht</td>\n",
       "      <td>Fire in French chemical plant extinguished</td>\n",
       "      <td>Fire in French chemical plant extinguished</td>\n",
       "      <td>Human-B.0</td>\n",
       "      <td>76.0</td>\n",
       "      <td>0.019485</td>\n",
       "    </tr>\n",
       "    <tr>\n",
       "      <th>1</th>\n",
       "      <td>newstestB2020</td>\n",
       "      <td>salzburg.com.254713</td>\n",
       "      <td>de</td>\n",
       "      <td>en</td>\n",
       "      <td>1</td>\n",
       "      <td>Brand in französischem Chemiewerk gelöscht</td>\n",
       "      <td>Fire in French chemical plant extinguished</td>\n",
       "      <td>Fire extinguished in French chemical plant</td>\n",
       "      <td>WMTBiomedBaseline.387</td>\n",
       "      <td>100.0</td>\n",
       "      <td>0.983309</td>\n",
       "    </tr>\n",
       "    <tr>\n",
       "      <th>2</th>\n",
       "      <td>newstestB2020</td>\n",
       "      <td>salzburg.com.254713</td>\n",
       "      <td>de</td>\n",
       "      <td>en</td>\n",
       "      <td>1</td>\n",
       "      <td>Brand in französischem Chemiewerk gelöscht</td>\n",
       "      <td>Fire in French chemical plant extinguished</td>\n",
       "      <td>Fire extinguished in French chemical plant</td>\n",
       "      <td>OPPO.1360</td>\n",
       "      <td>100.0</td>\n",
       "      <td>2.216730</td>\n",
       "    </tr>\n",
       "    <tr>\n",
       "      <th>3</th>\n",
       "      <td>newstestB2020</td>\n",
       "      <td>salzburg.com.254713</td>\n",
       "      <td>de</td>\n",
       "      <td>en</td>\n",
       "      <td>1</td>\n",
       "      <td>Brand in französischem Chemiewerk gelöscht</td>\n",
       "      <td>Fire in French chemical plant extinguished</td>\n",
       "      <td>Brand in French chemistry</td>\n",
       "      <td>zlabs-nlp.1153</td>\n",
       "      <td>31.0</td>\n",
       "      <td>-1.833301</td>\n",
       "    </tr>\n",
       "    <tr>\n",
       "      <th>4</th>\n",
       "      <td>newstestB2020</td>\n",
       "      <td>salzburg.com.254713</td>\n",
       "      <td>de</td>\n",
       "      <td>en</td>\n",
       "      <td>1</td>\n",
       "      <td>Brand in französischem Chemiewerk gelöscht</td>\n",
       "      <td>Fire in French chemical plant extinguished</td>\n",
       "      <td>Fire extinguished in French chemical plant</td>\n",
       "      <td>Huoshan_Translate.789</td>\n",
       "      <td>100.0</td>\n",
       "      <td>0.707151</td>\n",
       "    </tr>\n",
       "  </tbody>\n",
       "</table>\n",
       "</div>"
      ],
      "text/plain": [
       "           setid                docid origlang trglang  segid  \\\n",
       "0  newstestB2020  salzburg.com.254713       de      en      1   \n",
       "1  newstestB2020  salzburg.com.254713       de      en      1   \n",
       "2  newstestB2020  salzburg.com.254713       de      en      1   \n",
       "3  newstestB2020  salzburg.com.254713       de      en      1   \n",
       "4  newstestB2020  salzburg.com.254713       de      en      1   \n",
       "\n",
       "                                    segsource  \\\n",
       "0  Brand in französischem Chemiewerk gelöscht   \n",
       "1  Brand in französischem Chemiewerk gelöscht   \n",
       "2  Brand in französischem Chemiewerk gelöscht   \n",
       "3  Brand in französischem Chemiewerk gelöscht   \n",
       "4  Brand in französischem Chemiewerk gelöscht   \n",
       "\n",
       "                                 segreference  \\\n",
       "0  Fire in French chemical plant extinguished   \n",
       "1  Fire in French chemical plant extinguished   \n",
       "2  Fire in French chemical plant extinguished   \n",
       "3  Fire in French chemical plant extinguished   \n",
       "4  Fire in French chemical plant extinguished   \n",
       "\n",
       "                                   segpredict                  sysid  \\\n",
       "0  Fire in French chemical plant extinguished              Human-B.0   \n",
       "1  Fire extinguished in French chemical plant  WMTBiomedBaseline.387   \n",
       "2  Fire extinguished in French chemical plant              OPPO.1360   \n",
       "3                   Brand in French chemistry         zlabs-nlp.1153   \n",
       "4  Fire extinguished in French chemical plant  Huoshan_Translate.789   \n",
       "\n",
       "   raw_score   z_score  \n",
       "0       76.0  0.019485  \n",
       "1      100.0  0.983309  \n",
       "2      100.0  2.216730  \n",
       "3       31.0 -1.833301  \n",
       "4      100.0  0.707151  "
      ]
     },
     "execution_count": 17,
     "metadata": {},
     "output_type": "execute_result"
    }
   ],
   "source": [
    "train_df, test_df = load_dataset(\"en\")\n",
    "train_df.head()"
   ]
  },
  {
   "cell_type": "code",
   "execution_count": 43,
   "id": "e65160e7",
   "metadata": {},
   "outputs": [],
   "source": [
    "def compute_bleu_scores(df):\n",
    "    bleu = BLEU(effective_order=True)\n",
    "    df[\"bleu\"] = [bleu.sentence_score(hyp, [ref]).score for (hyp, ref) in zip(df.segpredict, df.segreference)]"
   ]
  },
  {
   "cell_type": "code",
   "execution_count": 44,
   "id": "dc5b7287",
   "metadata": {},
   "outputs": [],
   "source": [
    "compute_bleu_scores(train_df)\n",
    "compute_bleu_scores(test_df)"
   ]
  },
  {
   "cell_type": "code",
   "execution_count": 47,
   "id": "ca88010d",
   "metadata": {},
   "outputs": [
    {
     "data": {
      "text/plain": [
       "array([[1.        , 0.38398194],\n",
       "       [0.38398194, 1.        ]])"
      ]
     },
     "execution_count": 47,
     "metadata": {},
     "output_type": "execute_result"
    }
   ],
   "source": [
    "np.corrcoef(test_df.raw_score, test_df.bleu)"
   ]
  },
  {
   "cell_type": "markdown",
   "id": "ae99e39c",
   "metadata": {},
   "source": [
    "## Segment analysis"
   ]
  },
  {
   "cell_type": "code",
   "execution_count": 5,
   "id": "2b616826",
   "metadata": {},
   "outputs": [
    {
     "name": "stdout",
     "output_type": "stream",
     "text": [
      "W: 4 rows with missing values\n"
     ]
    },
    {
     "name": "stderr",
     "output_type": "stream",
     "text": [
      "100%|███████████████████████████████████████████| 15176/15176 [00:07<00:00, 2110.39it/s]\n"
     ]
    },
    {
     "data": {
      "image/png": "[encoded data removed]",
      "text/plain": [
       "<Figure size 432x288 with 1 Axes>"
      ]
     },
     "metadata": {
      "needs_background": "light"
     },
     "output_type": "display_data"
    },
    {
     "name": "stderr",
     "output_type": "stream",
     "text": [
      "100%|███████████████████████████████████████████| 28077/28077 [00:10<00:00, 2567.39it/s]\n"
     ]
    },
    {
     "data": {
      "image/png": "[encoded data removed]",
      "text/plain": [
       "<Figure size 432x288 with 1 Axes>"
      ]
     },
     "metadata": {
      "needs_background": "light"
     },
     "output_type": "display_data"
    }
   ],
   "source": [
    "EN_PRETRAINED = \"bert-base-uncased\"\n",
    "DE_PRETRAINED = \"dbmdz/bert-base-german-uncased\"\n",
    "\n",
    "tokenizer_en = AutoTokenizer.from_pretrained(EN_PRETRAINED)\n",
    "tokenizer_de = AutoTokenizer.from_pretrained(DE_PRETRAINED)\n",
    "\n",
    "for lp, src_tokenizer, tgt_tokenizer in [\n",
    "    (\"de-en\", tokenizer_de, tokenizer_en), (\"en-de\", tokenizer_en, tokenizer_de)\n",
    "]:\n",
    "    df, _ = load_dataset(lp[-2:])\n",
    "    lens = []\n",
    "    for _, row in tqdm(df.iterrows(), total=df.shape[0]):\n",
    "        lens.append(len(src_tokenizer(row.segsource)[\"input_ids\"]))\n",
    "        for column in [\"segreference\", \"segpredict\"]:\n",
    "            lens.append(len(tgt_tokenizer(row[column])[\"input_ids\"]))\n",
    "    plt.title(f\"Number of tokens distribution for {lp} pair\")\n",
    "    plt.hist(lens)\n",
    "    plt.show()"
   ]
  },
  {
   "cell_type": "markdown",
   "id": "dbdfb08d",
   "metadata": {},
   "source": [
    "## Sentence Transformer"
   ]
  },
  {
   "cell_type": "code",
   "execution_count": 6,
   "id": "f987ff31",
   "metadata": {},
   "outputs": [
    {
     "name": "stdout",
     "output_type": "stream",
     "text": [
      "checkpoints/en-segreference--bert-base-uncased--2022-01-24_21-35-47\n"
     ]
    }
   ],
   "source": [
    "LANG = \"en\"\n",
    "GOLD_COLUMN = \"segreference\"\n",
    "MODEL_NAME = \"bert-base-uncased\"\n",
    "BATCH_SIZE = 16\n",
    "NUM_EPOCHS = 5\n",
    "MODEL_SAVE_PATH = (\n",
    "    f\"checkpoints/{LANG}-{GOLD_COLUMN}--\" + MODEL_NAME + \"--\" + datetime.now().strftime(\"%Y-%m-%d_%H-%M-%S\")\n",
    ")\n",
    "\n",
    "print(MODEL_SAVE_PATH)"
   ]
  },
  {
   "cell_type": "code",
   "execution_count": 7,
   "id": "4b4d49fe",
   "metadata": {},
   "outputs": [
    {
     "name": "stderr",
     "output_type": "stream",
     "text": [
      "Some weights of the model checkpoint at bert-base-uncased were not used when initializing BertModel: ['cls.predictions.transform.LayerNorm.weight', 'cls.predictions.bias', 'cls.predictions.transform.dense.weight', 'cls.predictions.decoder.weight', 'cls.seq_relationship.weight', 'cls.predictions.transform.dense.bias', 'cls.predictions.transform.LayerNorm.bias', 'cls.seq_relationship.bias']\n",
      "- This IS expected if you are initializing BertModel from the checkpoint of a model trained on another task or with another architecture (e.g. initializing a BertForSequenceClassification model from a BertForPreTraining model).\n",
      "- This IS NOT expected if you are initializing BertModel from the checkpoint of a model that you expect to be exactly identical (initializing a BertForSequenceClassification model from a BertForSequenceClassification model).\n"
     ]
    }
   ],
   "source": [
    "word_embedding_model = models.Transformer(MODEL_NAME, max_seq_length=100)\n",
    "pooling_model = models.Pooling(768)\n",
    "model = SentenceTransformer(modules=[word_embedding_model, pooling_model])"
   ]
  },
  {
   "cell_type": "code",
   "execution_count": 8,
   "id": "002e28cb",
   "metadata": {},
   "outputs": [
    {
     "name": "stdout",
     "output_type": "stream",
     "text": [
      "W: 4 rows with missing values\n"
     ]
    }
   ],
   "source": [
    "train_samples, test_samples = load_samples(LANG, gold_column=GOLD_COLUMN)\n",
    "train_loader = DataLoader(train_samples, shuffle=True, batch_size=BATCH_SIZE)\n",
    "train_loss = losses.CosineSimilarityLoss(model=model)\n",
    "evaluator = EmbeddingSimilarityEvaluator.from_input_examples(test_samples, name=f\"{LANG}-{GOLD_COLUMN}-test\")\n",
    "warmup_steps = math.ceil(len(train_loader) * NUM_EPOCHS * 0.1)  # 10% of train data for warm-up"
   ]
  },
  {
   "cell_type": "code",
   "execution_count": 9,
   "id": "91a0f7fa",
   "metadata": {},
   "outputs": [
    {
     "data": {
      "application/vnd.jupyter.widget-view+json": {
       "model_id": "68fccbb53842442786fb58a5b7f6aa98",
       "version_major": 2,
       "version_minor": 0
      },
      "text/plain": [
       "Epoch:   0%|          | 0/5 [00:00<?, ?it/s]"
      ]
     },
     "metadata": {},
     "output_type": "display_data"
    },
    {
     "data": {
      "application/vnd.jupyter.widget-view+json": {
       "model_id": "d15a62268644404684c32dd35b2de6f6",
       "version_major": 2,
       "version_minor": 0
      },
      "text/plain": [
       "Iteration:   0%|          | 0/949 [00:00<?, ?it/s]"
      ]
     },
     "metadata": {},
     "output_type": "display_data"
    },
    {
     "data": {
      "application/vnd.jupyter.widget-view+json": {
       "model_id": "0ca237719cb54bcfbca441a2e37741b5",
       "version_major": 2,
       "version_minor": 0
      },
      "text/plain": [
       "Iteration:   0%|          | 0/949 [00:00<?, ?it/s]"
      ]
     },
     "metadata": {},
     "output_type": "display_data"
    },
    {
     "data": {
      "application/vnd.jupyter.widget-view+json": {
       "model_id": "49b8af134b1f40c199b0f3e2a370f2e3",
       "version_major": 2,
       "version_minor": 0
      },
      "text/plain": [
       "Iteration:   0%|          | 0/949 [00:00<?, ?it/s]"
      ]
     },
     "metadata": {},
     "output_type": "display_data"
    },
    {
     "data": {
      "application/vnd.jupyter.widget-view+json": {
       "model_id": "cb7bd1be588e456b9cdd85328b7ea84c",
       "version_major": 2,
       "version_minor": 0
      },
      "text/plain": [
       "Iteration:   0%|          | 0/949 [00:00<?, ?it/s]"
      ]
     },
     "metadata": {},
     "output_type": "display_data"
    },
    {
     "data": {
      "application/vnd.jupyter.widget-view+json": {
       "model_id": "64dede4888e1464c90c533adaa3b69bf",
       "version_major": 2,
       "version_minor": 0
      },
      "text/plain": [
       "Iteration:   0%|          | 0/949 [00:00<?, ?it/s]"
      ]
     },
     "metadata": {},
     "output_type": "display_data"
    }
   ],
   "source": [
    "model.fit(\n",
    "    train_objectives=[(train_loader, train_loss)],\n",
    "    evaluator=evaluator,\n",
    "    epochs=NUM_EPOCHS,\n",
    "    evaluation_steps=500,\n",
    "    warmup_steps=warmup_steps,\n",
    "    output_path=MODEL_SAVE_PATH\n",
    ")"
   ]
  },
  {
   "cell_type": "code",
   "execution_count": 22,
   "id": "d5697f68",
   "metadata": {},
   "outputs": [
    {
     "data": {
      "text/plain": [
       "0.6643429878636556"
      ]
     },
     "execution_count": 22,
     "metadata": {},
     "output_type": "execute_result"
    }
   ],
   "source": [
    "evaluator = EmbeddingSimilarityEvaluator.from_input_examples(train_samples, name=f\"{LANG}-{GOLD_COLUMN}-train\")\n",
    "evaluator(model, output_path=MODEL_SAVE_PATH)"
   ]
  }
 ],
 "metadata": {
  "kernelspec": {
   "display_name": "mt-metrics",
   "language": "python",
   "name": "mt-metrics"
  },
  "language_info": {
   "codemirror_mode": {
    "name": "ipython",
    "version": 3
   },
   "file_extension": ".py",
   "mimetype": "text/x-python",
   "name": "python",
   "nbconvert_exporter": "python",
   "pygments_lexer": "ipython3",
   "version": "3.8.10"
  }
 },
 "nbformat": 4,
 "nbformat_minor": 5
}
