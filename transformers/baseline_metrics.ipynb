{
 "cells": [
  {
   "cell_type": "code",
   "execution_count": 8,
   "id": "a9ef5bc0",
   "metadata": {},
   "outputs": [],
   "source": [
    "from nltk.tokenize import word_tokenize\n",
    "from nltk.translate.meteor_score import single_meteor_score\n",
    "from sacrebleu.metrics import BLEU, CHRF\n",
    "import pandas as pd"
   ]
  },
  {
   "cell_type": "code",
   "execution_count": 5,
   "id": "3a19d3cd",
   "metadata": {},
   "outputs": [],
   "source": [
    "bleu = BLEU(effective_order=True)\n",
    "chrf = CHRF()"
   ]
  },
  {
   "cell_type": "code",
   "execution_count": 2,
   "id": "1b9f8f0b",
   "metadata": {},
   "outputs": [],
   "source": [
    "def custom_tokenizer(text):\n",
    "    tokens = word_tokenize(text)\n",
    "    tokens = [token.lower() for token in tokens if token.isalnum()]\n",
    "    return tokens"
   ]
  },
  {
   "cell_type": "code",
   "execution_count": 4,
   "id": "0c4b95c7",
   "metadata": {},
   "outputs": [],
   "source": [
    "def compute_blue(predict, reference):\n",
    "    return bleu.sentence_score(predict, [reference]).score"
   ]
  },
  {
   "cell_type": "code",
   "execution_count": 6,
   "id": "ddabe3e6",
   "metadata": {},
   "outputs": [],
   "source": [
    "def compute_meteor(predict, reference):\n",
    "    return single_meteor_score(custom_tokenizer(reference), custom_tokenizer(predict))"
   ]
  },
  {
   "cell_type": "code",
   "execution_count": 7,
   "id": "3bab6061",
   "metadata": {},
   "outputs": [],
   "source": [
    "def compute_chrf(predict, reference):\n",
    "    return chrf.sentence_score(predict, [reference]).score"
   ]
  },
  {
   "cell_type": "code",
   "execution_count": 10,
   "id": "7f9963e0",
   "metadata": {},
   "outputs": [],
   "source": [
    "dfs = [\n",
    "    \"data/en-test-scores.csv\",\n",
    "    \"data/de-test-scores.csv\",\n",
    "]\n",
    "for df_path in dfs:\n",
    "    df = pd.read_csv(df_path)\n",
    "    for metric, metric_fn in [(\"bleu\", compute_blue), (\"meteor\", compute_meteor), (\"chrf\", compute_chrf)]:\n",
    "        df[f\"{metric}_score\"] = [\n",
    "            metric_fn(segpredict, segreferece)\n",
    "            for (segpredict, segreferece) in zip(df.segpredict, df.segreference)\n",
    "        ]\n",
    "    df.to_csv(df_path, index=False)"
   ]
  }
 ],
 "metadata": {
  "kernelspec": {
   "display_name": "mt-metrics",
   "language": "python",
   "name": "mt-metrics"
  },
  "language_info": {
   "codemirror_mode": {
    "name": "ipython",
    "version": 3
   },
   "file_extension": ".py",
   "mimetype": "text/x-python",
   "name": "python",
   "nbconvert_exporter": "python",
   "pygments_lexer": "ipython3",
   "version": "3.8.10"
  }
 },
 "nbformat": 4,
 "nbformat_minor": 5
}
